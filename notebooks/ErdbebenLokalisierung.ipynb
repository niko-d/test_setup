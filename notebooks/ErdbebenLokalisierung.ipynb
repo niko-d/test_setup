{
 "cells": [
  {
   "cell_type": "markdown",
   "id": "94b78ac6-5064-4fac-bddf-806b02900249",
   "metadata": {},
   "source": [
    "#  Erdbebenlokalisierung mit Triangulation\n",
    "Erdbebenwellen breiten sich in alle Richtungen aus und werden von seismischen Stationen an der Oberfläche registriert. Um den Ort des Erdbebens zu bestimmen, nutzen Seismologen vor die P-Wellen (Primärwellen), da sie die schnellsten seismischen Wellen sind und somit als erstes an den Stationen ankommen. S-Wellen können ebenso benutzt werden, es dauert jedoch länger bis diese aufgezeichnet werden.\n",
    "\n",
    "Die Triangulation ist eine einfache Methode zur Bestimmung des Erdbebenepizentrums. Dabei werden die Ankunftszeiten der P-Wellen (und/oder S-Wellen) an mehreren Stationen (Seismometern) verglichen. Aus den Zeitdifferenzen kann man die Entfernung jeder Station zum Erdbeben berechnen. Zeichnet man um jede Station einen Kreis mit diesem Abstand, ergibt der Schnittpunkt der Kreise die ungefähre Lage des Epizentrums.\n",
    "\n",
    "In dieser Aufgabe betrachten wir 5 Erdbeben, und lokalisieren sie jeweils mittels 3 Stationen."
   ]
  },
  {
   "cell_type": "code",
   "execution_count": 1,
   "id": "3787d50d-eb58-451c-87f2-fa0154a13cdf",
   "metadata": {},
   "outputs": [],
   "source": [
    "# Importe\n",
    "import matplotlib.pyplot as plt\n",
    "import numpy as np\n",
    "from obspy import UTCDateTime\n",
    "from obspy.clients.fdsn import Client\n",
    "import cartopy\n",
    "import matplotlib.pyplot as plt\n",
    "from ipywidgets import FloatSlider, FloatText, HBox, Label, interactive_output, Output\n",
    "from IPython.display import display\n",
    "import matplotlib.patches as patches  \n",
    "\n",
    "\n",
    "# Erdbebendaten werden vom ETH Server bezogen\n",
    "client = Client(\"ETH\")"
   ]
  },
  {
   "cell_type": "code",
   "execution_count": 4,
   "id": "2de0bf95-f57e-4e1c-b6d3-f94f12bfe4e3",
   "metadata": {},
   "outputs": [
    {
     "ename": "ModuleNotFoundError",
     "evalue": "No module named 'seismology_utils'",
     "output_type": "error",
     "traceback": [
      "\u001b[0;31m---------------------------------------------------------------------------\u001b[0m",
      "\u001b[0;31mModuleNotFoundError\u001b[0m                       Traceback (most recent call last)",
      "Cell \u001b[0;32mIn[4], line 2\u001b[0m\n\u001b[1;32m      1\u001b[0m \u001b[38;5;66;03m# Funktionen für das Notebook (nicht-ändern)\u001b[39;00m\n\u001b[0;32m----> 2\u001b[0m \u001b[38;5;28;01mfrom\u001b[39;00m\u001b[38;5;250m \u001b[39m\u001b[38;5;21;01mseismology_utils\u001b[39;00m\u001b[38;5;250m \u001b[39m\u001b[38;5;28;01mimport\u001b[39;00m get_data, plot_with_start_slider, plot_with_p_s, get_station_info\n",
      "\u001b[0;31mModuleNotFoundError\u001b[0m: No module named 'seismology_utils'"
     ]
    }
   ],
   "source": [
    "# Funktionen für das Notebook (nicht-ändern)\n",
    "from seismology_utils import get_data, plot_with_start_slider, plot_with_p_s, get_station_info\n"
   ]
  },
  {
   "cell_type": "markdown",
   "id": "00439e42-6307-4131-adce-650447c3316c",
   "metadata": {},
   "source": [
    "# START AUFGABE\n",
    "Wähle nacheinander Erdbeben 1-5 und lokalisiere mittels Triangulation. Die Herdzeit ist gegeben."
   ]
  },
  {
   "cell_type": "markdown",
   "id": "a66d7a4c-af05-47b2-a2e6-0cea2156d164",
   "metadata": {},
   "source": [
    "# Part 1: Erdbeben Lokalisierung mit P-Welle und Herdzeit"
   ]
  },
  {
   "cell_type": "code",
   "execution_count": 3,
   "id": "9a99d93a-39b7-4138-b84c-cb429017ff48",
   "metadata": {},
   "outputs": [],
   "source": [
    "# Wähle Erdbeben 1,2,3,4, oder 4\n",
    "earthquake_number = 2\n",
    "\n",
    "if earthquake_number==1: \n",
    "    # Beben 1\n",
    "    origin_time = UTCDateTime(\"2025-07-21T10:52:16\")   # start time\n",
    "    station_data = [\n",
    "        {\"network\": \"CH\", \"station\": \"SFRS\", \"channel\":\"HGZ\"},\n",
    "        {\"network\": \"CH\", \"station\": \"SINS\", \"channel\":\"HGZ\"},\n",
    "        {\"network\": \"CH\", \"station\": \"FIESA\", \"channel\":\"HHZ\"},\n",
    "    ]\n",
    "elif earthquake_number==2: # geht nicht\n",
    "    # Beben 2\n",
    "    origin_time = UTCDateTime(\"2025-07-21T19:17:25\")   \n",
    "    station_data = [\n",
    "        {\"network\": \"CH\", \"station\": \"VANNI\", \"channel\":\"HHZ\"},\n",
    "        {\"network\": \"CH\", \"station\": \"LKBD2\", \"channel\":\"HHZ\"},\n",
    "        {\"network\": \"CH\", \"station\": \"EMBD\", \"channel\":\"HHZ\"},\n",
    "    ]\n",
    "elif earthquake_number==3:\n",
    "    # Beben 3\n",
    "    origin_time = UTCDateTime(\"2025-07-13T12:16:29\")   # start time\n",
    "    station_data = [\n",
    "        {\"network\": \"CH\", \"station\": \"SGRA\", \"channel\":\"HGZ\"},\n",
    "        {\"network\": \"CH\", \"station\": \"MMK\", \"channel\":\"HHZ\"},\n",
    "        {\"network\": \"CH\", \"station\": \"FIESA\", \"channel\":\"HHZ\"},\n",
    "    ]\n",
    "elif earthquake_number==4:\n",
    "    # Beben 4\n",
    "    origin_time = UTCDateTime(\"2025-07-28T13:48:21\")   # start time\n",
    "    station_data = [\n",
    "        {\"network\": \"CH\", \"station\": \"SRFW\", \"channel\":\"HGZ\"},\n",
    "        {\"network\": \"CH\", \"station\": \"SRHB\", \"channel\":\"HGZ\"},\n",
    "        {\"network\": \"CH\", \"station\": \"SULZ\", \"channel\":\"HHZ\"},\n",
    "    ]\n",
    "\n",
    "elif earthquake_number==5:\n",
    "    # Beben 5\n",
    "    origin_time = UTCDateTime(\"2025-07-29T13:03:12\")   # start time\n",
    "    station_data = [\n",
    "        {\"network\": \"CH\", \"station\": \"SENIN\", \"channel\":\"HHZ\"},\n",
    "        {\"network\": \"CH\", \"station\": \"GRYON\", \"channel\":\"HHZ\"},\n",
    "        {\"network\": \"CH\", \"station\": \"STSW2\", \"channel\":\"HGZ\"},\n",
    "    ]\n",
    "else:\n",
    "    print(\"Wähle Erdbeben 1,2,3,4, oder 4\")\n",
    "\n",
    "\n",
    "station_info = get_station_info(station_data)"
   ]
  },
  {
   "cell_type": "markdown",
   "id": "ee6bb5d0-644e-4acb-9d0a-ddf1a276e611",
   "metadata": {},
   "source": [
    "### Seismogramme herunterladen, prozessieren, und überprüfen"
   ]
  },
  {
   "cell_type": "code",
   "execution_count": null,
   "id": "c646a495-5e71-4be5-9030-041e9fbcdfa8",
   "metadata": {},
   "outputs": [],
   "source": [
    "# Daten Download der vertikal Komponente\n",
    "st1, st2, st3 = get_data(station_data,origin_time)\n",
    "\n",
    "print(\"Seismogramme in Streams enthalten\") \n",
    "print(\"mit Network/Station/Channel Code; sowie Start und Ende des Seismograms; Abtastfrequenz [Hz], und Anzahl Zeitschritte in Zeitreihe\")\n",
    "print(st1)\n",
    "print(st2)\n",
    "print(st3)"
   ]
  },
  {
   "cell_type": "code",
   "execution_count": null,
   "id": "e204ff58-466b-4f71-bced-92c022f88e64",
   "metadata": {},
   "outputs": [],
   "source": [
    "# Daten Plotten, die Einheit ist m/s (Bodenbewegung)\n",
    "plt.close(\"all\")\n",
    "%matplotlib inline\n",
    "\n",
    "st1.plot()\n",
    "st2.plot()\n",
    "st3.plot();"
   ]
  },
  {
   "cell_type": "markdown",
   "id": "5d093236-ff25-4ef2-8237-dbe3cbaa5a60",
   "metadata": {},
   "source": [
    "### Wähle für jede Aufzeichnung die Startzeit des Erdbebensignals (Beginn der P-Welle, da diese die schnellste Welle ist)."
   ]
  },
  {
   "cell_type": "code",
   "execution_count": null,
   "id": "776868a3-0a3b-4e10-a3c0-0fbc45b82221",
   "metadata": {},
   "outputs": [],
   "source": [
    "# Bestimme Start des Erdbebensignals an Station 1\n",
    "%matplotlib widget\n",
    "\n",
    "start_station1 = 1 # \n",
    "# Ändere Länge des Seismograms im Plot mittels time_range = [0,10] in Sekunden\n",
    "selected_start_station1 = plot_with_start_slider(st1[0],initial_start=start_station1,time_range=[0,10])"
   ]
  },
  {
   "cell_type": "code",
   "execution_count": null,
   "id": "93d02daf-54c0-4874-90b9-9ecb7b6aa95e",
   "metadata": {},
   "outputs": [],
   "source": [
    "# Bestimme Start des Erdbebensignals an Station 2\n",
    "%matplotlib widget\n",
    "\n",
    "start_station2 = 1\n",
    "selected_start_station2 = plot_with_start_slider(st2[0],initial_start=start_station2,time_range=[0,10])"
   ]
  },
  {
   "cell_type": "code",
   "execution_count": null,
   "id": "c2c674bc-71ba-445b-9c1a-a8debc4a3b4c",
   "metadata": {},
   "outputs": [],
   "source": [
    "# Bestimme Start des Erdbebensignals an Station 3\n",
    "%matplotlib widget\n",
    "\n",
    "start_station3 = 1\n",
    "selected_start_station3 = plot_with_start_slider(st3[0],initial_start=start_station3,time_range=[0,10])"
   ]
  },
  {
   "cell_type": "code",
   "execution_count": null,
   "id": "be993eef-a145-4230-a7d0-23d2951809f3",
   "metadata": {},
   "outputs": [],
   "source": [
    "start_station1 = selected_start_station1[\"start\"]\n",
    "start_station2 = selected_start_station2[\"start\"]\n",
    "start_station3 = selected_start_station3[\"start\"]\n",
    "\n",
    "print(\"Gewählte Laufzeiten (Station 1,2,3)\")\n",
    "print(station_data[0][\"station\"] + f\": {start_station1:.1f} [s]\")\n",
    "print(station_data[1][\"station\"] + f\": {start_station2:.1f} [s]\")\n",
    "print(station_data[2][\"station\"] + f\": {start_station3:.1f} [s]\")"
   ]
  },
  {
   "cell_type": "code",
   "execution_count": null,
   "id": "e3ee054d-b0b1-4f87-90d6-efae490583f0",
   "metadata": {},
   "outputs": [],
   "source": [
    "# Bestimme Distanzen\n",
    "# Hinweis: die ausgewählte Zeit ist relativ zur Herdzeit des Bebens\n",
    "vp = ... # TODO Nutze typische P Wellengeschwindigkeit in [km/s]; \n",
    "vp = 4.5\n",
    "\n",
    "# Denke daran dass die Geschwindigkeit auch mit der lokalen Geologie variiert.\n",
    "# Beachte auch, dass Erdbebenwellen mit grösserer Distanz typischer Weise durch tiefere, schneller Schichten propagieren\n",
    "distance_station1 = vp * start_station1\n",
    "distance_station2 = vp * start_station2\n",
    "distance_station3 = vp * start_station3\n",
    "\n",
    "print(f\"Geschätzte Distanz von Station 1 [km]: {distance_station1:.1f}\")\n",
    "print(f\"Geschätzte Distanz von Station 2 [km]: {distance_station2:.1f}\")\n",
    "print(f\"Geschätzte Distanz von Station 3 [km]: {distance_station3:.1f}\")\n",
    "\n",
    "distances_km = [distance_station1, distance_station2, distance_station3]"
   ]
  },
  {
   "cell_type": "code",
   "execution_count": null,
   "id": "5ea3ee94-1018-4dbc-a747-4f608e9940c0",
   "metadata": {},
   "outputs": [],
   "source": [
    "\n",
    "# Schliesse interaktive Plots\n",
    "plt.close('all')\n",
    "%matplotlib inline\n",
    "\n",
    "\n",
    "fig, ax = plt.subplots(figsize=(6,6))\n",
    "\n",
    "for i, stat in enumerate(station_info):\n",
    "    ax.scatter(stat[2], stat[1], label=stat[0])\n",
    "\n",
    "    distance = distances_km[i]\n",
    "    circle = patches.Circle((stat[2], stat[1]), radius=km_to_deg(distance), color='darkred', fill=False, lw=8,alpha=0.33)\n",
    "    ax.add_patch(circle)\n",
    "\n",
    "ax.axis('equal')\n",
    "ax.legend()\n",
    "ax.set_xlabel(\"Länge [°E]\")\n",
    "ax.set_ylabel(\"Breite [°N]\")\n",
    "ax.set_title(\"Stationen und Distanzen zu Erdbebenherd\")\n",
    "ax.grid()\n",
    "plt.show()\n"
   ]
  },
  {
   "cell_type": "markdown",
   "id": "9ac41051-3462-432d-8dec-b146079d7a5f",
   "metadata": {},
   "source": [
    "Fragen zur Aufgabe:\n",
    "1. Kann jedes Beben gleich gut lokalisiert werden? Wenn nein, was sidn die Gründe?\n",
    "2. Die Triangulation ist eine sehr vereinfachte Methode zur Lokalisierung der Erdbebenhypozentren. Welche Faktoren werden hierbei nicht beachtet?\n",
    "3. In dieser Übung war die Herdzeit gegeben und die Laufzeit der Wellen vom Erdbebenherd zur Station können direkt bestimmt werden. Wie könnte das Beben lokalisiert werden wenn die Herdzeit nicht bekannt ist?\n"
   ]
  },
  {
   "cell_type": "code",
   "execution_count": null,
   "id": "1b4df730-9c64-42b9-b8ca-f2d3c3c2e784",
   "metadata": {
    "jupyter": {
     "is_executing": true
    }
   },
   "outputs": [],
   "source": [
    "# Lösung\n",
    "# Beben 1: 46.540 N 7.859 E\n",
    "# Beben 2: 46.277 N 7.639 E\n",
    "# Beben 3: 46.192 N 7.903 E\n",
    "# Beben 4: 47.618 7.824 E - schwieriger aufgrund Geometrie der Stationen\n",
    "# Beben 5: 46.299 N 7.269 E - schwierig da hohes Rauschen"
   ]
  },
  {
   "cell_type": "markdown",
   "id": "98598726-8c1d-4d73-9a77-b65e72cb6c84",
   "metadata": {},
   "source": [
    "# Part 2: Erdbeben Lokalisierung mit P und S-Welle, ohne Herdzeit"
   ]
  },
  {
   "cell_type": "code",
   "execution_count": null,
   "id": "1bc8ea187f73dc69",
   "metadata": {
    "jupyter": {
     "is_executing": true
    }
   },
   "outputs": [],
   "source": [
    "%matplotlib widget\n",
    "# Station 1, bestimme P und S Einsätze\n",
    "selected_p_s_station1 = plot_with_p_s(st1[0], initial_p=1, initial_s=3, time_range=[0, 10])\n"
   ]
  },
  {
   "cell_type": "code",
   "execution_count": null,
   "id": "a1168076-6099-4f4f-86a6-45857252c411",
   "metadata": {},
   "outputs": [],
   "source": [
    "%matplotlib widget\n",
    "# Station 2, bestimme P und S Einsätze\n",
    "selected_p_s_station2 = plot_with_p_s(st2[0], initial_p=1, initial_s=3, time_range=[0, 10])\n"
   ]
  },
  {
   "cell_type": "code",
   "execution_count": null,
   "id": "d44a9101-3713-4f12-a6eb-e35d96cc5e9f",
   "metadata": {},
   "outputs": [],
   "source": [
    "%matplotlib widget\n",
    "# Station 3, bestimme P und S Einsätze\n",
    "selected_p_s_station3 = plot_with_p_s(st3[0], initial_p=1, initial_s=3, time_range=[0, 10])"
   ]
  },
  {
   "cell_type": "markdown",
   "id": "4639f321-42c5-49cd-bcff-f92ceededec8",
   "metadata": {},
   "source": [
    "## Bestimme Distanzen mittels P und S Wellen Einsätzen"
   ]
  },
  {
   "cell_type": "code",
   "execution_count": null,
   "id": "7a6d7c38-8916-42fb-bc44-4e34b6c4e1e7",
   "metadata": {},
   "outputs": [],
   "source": [
    "# Bestimme Distanzen\n",
    "# Hinweis: die ausgewählte Zeit ist relativ zur Herdzeit des Bebens\n",
    "vp = 4.5 # Nutze typische P Wellengeschwindigkeit in [km/s];\n",
    "vs = vp/1.73 # Nutze typische S Wellengeschwindigkeit in [km/s];\n",
    "\n",
    "\n",
    "def get_distance(p,s,vp,vs):\n",
    "    # TODO: Berechne Distanz mit P und S Welleneinsätzen, und P und S Wellen Geschwindigkeit\n",
    "    distance ...\n",
    "    return distance\n",
    "\n",
    "# Lösung\n",
    "def get_distance(p,s,vp,vs):\n",
    "    return (s-p) * (vp*vs) / (vp-vs)\n",
    "    \n",
    "# Denke daran dass die Geschwindigkeit auch mit der lokalen Geologie variiert.\n",
    "# Beachte auch, dass Erdbebenwellen mit grösserer Distanz typischer Weise durch tiefere, schneller Schichten propagieren\n",
    "distance_station1 = get_distance(selected_p_s_station1[\"P\"],selected_p_s_station1[\"S\"],vp,vs)\n",
    "distance_station2 = get_distance(selected_p_s_station1[\"P\"],selected_p_s_station2[\"S\"],vp,vs)\n",
    "distance_station3 = get_distance(selected_p_s_station1[\"P\"],selected_p_s_station3[\"S\"],vp,vs)\n",
    "\n",
    "print(f\"Geschätzte Distanz von Station 1 [km]: {distance_station1:.1f}\")\n",
    "print(f\"Geschätzte Distanz von Station 2 [km]: {distance_station2:.1f}\")\n",
    "print(f\"Geschätzte Distanz von Station 3 [km]: {distance_station3:.1f}\")"
   ]
  },
  {
   "cell_type": "code",
   "execution_count": null,
   "id": "99c233ad3cfce48a",
   "metadata": {
    "jupyter": {
     "is_executing": true
    }
   },
   "outputs": [],
   "source": [
    "def km_to_deg(kilometer):  \n",
    "    # stark vereinfachte Umwandlung zur groben Abschätzung\n",
    "    return kilometer / 111 \n",
    "    \n",
    "# Schliesse interaktive Plots\n",
    "plt.close('all')\n",
    "%matplotlib inline\n",
    "\n",
    "\n",
    "fig, ax = plt.subplots(figsize=(6,6))\n",
    "\n",
    "for i, stat in enumerate(station_info):\n",
    "    ax.scatter(stat[2], stat[1], label=stat[0])\n",
    "\n",
    "    distance = [distance_station1, distance_station2, distance_station3][i]\n",
    "    circle = patches.Circle((stat[2], stat[1]), radius=km_to_deg(distance), color='darkred', fill=False, lw=8,alpha=0.33)\n",
    "    ax.add_patch(circle)\n",
    "\n",
    "ax.axis('equal')\n",
    "ax.legend()\n",
    "ax.set_xlabel(\"Länge [°E]\")\n",
    "ax.set_ylabel(\"Breite [°N]\")\n",
    "ax.set_title(\"Stationen und Distanzen zu Erdbebenherd\")\n",
    "ax.grid()\n",
    "plt.show()"
   ]
  },
  {
   "cell_type": "markdown",
   "id": "9f331224-9aa8-4cd2-aed2-193ca8270acb",
   "metadata": {},
   "source": [
    "## Bestimmung die Herdzeit mit Wadati-Diagram\n"
   ]
  },
  {
   "cell_type": "code",
   "execution_count": null,
   "id": "1c06b5e8-cd4c-4652-b696-270da5b79f86",
   "metadata": {},
   "outputs": [],
   "source": [
    "# In diesem Beispiel starten die Seismogramme ab der Herdzeit (t=0), daher kennen wir die Herdzeit bereits\n",
    "# Überprüfe ob deine gewählten P und S Wellen Einsätze die korrekte Herdzeit ergeben mit einem Wadati-Diagram\n",
    "# Trage die Laufzeitdifferenz von P und S Wellen gegen die Laufzeit der P Welle auf.\n",
    "# Die Messungen sollte eine Gerade bilden, und deren Verlängerung sollte die y=0 ergeben bei x=0."
   ]
  },
  {
   "cell_type": "code",
   "execution_count": null,
   "id": "9610b66b-8033-41ea-9a04-45d87176803e",
   "metadata": {},
   "outputs": [],
   "source": [
    "plt.close('all')\n",
    "%matplotlib inline\n",
    "\n",
    "\n",
    "p_times, sp_times = [], [] # P Wellen EInsätze und  Laufzeitdifferenz von P und S Wellen\n",
    "\n",
    "\n",
    "... \n",
    "\n",
    "\n",
    "plt.scatter(p_times, sp_times)\n",
    "plt.xlim(0,10)\n",
    "plt.ylim(0,10)\n",
    "plt.xlabel(\"Ankunfszeit P Welle [s]\")\n",
    "plt.ylabel(\"Zeitdifferenz S und P Welle [s]\")\n",
    "plt.title(\"Wadati-Diagram\")\n",
    "\n",
    "# Lineare Fit \n",
    "m, b = np.polyfit(p_times, sp_times, 1)\n",
    "x = np.linspace(0,10,11)\n",
    "y_fit = m * x + b\n",
    "\n",
    "plt.plot(x, y_fit, color='red', label=f'Linear fit')\n",
    "plt.legend()\n",
    "plt.grid()    "
   ]
  },
  {
   "cell_type": "code",
   "execution_count": null,
   "id": "8cf780b0e012f224",
   "metadata": {
    "jupyter": {
     "is_executing": true
    }
   },
   "outputs": [],
   "source": [
    "# Lösung\n",
    "plt.close('all')\n",
    "%matplotlib inline\n",
    "\n",
    "\n",
    "p_times, sp_times = [], []\n",
    "for ps in [selected_p_s_station1, selected_p_s_station2, selected_p_s_station3]:\n",
    "    p = ps[\"P\"]\n",
    "    s = ps[\"S\"]\n",
    "    sp_times.append(ps[\"S\"]-p)\n",
    "    p_times.append(p)\n",
    "\n",
    "plt.scatter(p_times, sp_times,)\n",
    "plt.xlim(0,10)\n",
    "plt.ylim(0,10)\n",
    "plt.xlabel(\"Ankunfszeit P Welle [s]\")\n",
    "plt.ylabel(\"Zeitdifferenz S und P Welle [s]\")\n",
    "plt.title(\"Wadati-Diagram\")\n",
    "\n",
    "m, b = np.polyfit(p_times, sp_times, 1)\n",
    "x = np.linspace(0,10,11)\n",
    "y_fit = m * x + b\n",
    "\n",
    "plt.plot(x, y_fit, color='red', label=f'Linear fit')\n",
    "plt.legend()\n",
    "plt.grid()"
   ]
  },
  {
   "cell_type": "code",
   "execution_count": null,
   "id": "cbbf9c41ac9a2743",
   "metadata": {},
   "outputs": [],
   "source": []
  }
 ],
 "metadata": {
  "kernelspec": {
   "display_name": "Python 3 (ipykernel)",
   "language": "python",
   "name": "python3"
  },
  "language_info": {
   "codemirror_mode": {
    "name": "ipython",
    "version": 3
   },
   "file_extension": ".py",
   "mimetype": "text/x-python",
   "name": "python",
   "nbconvert_exporter": "python",
   "pygments_lexer": "ipython3",
   "version": "3.10.16"
  }
 },
 "nbformat": 4,
 "nbformat_minor": 5
}
